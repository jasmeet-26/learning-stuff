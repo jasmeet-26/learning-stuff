{
 "cells": [
  {
   "cell_type": "code",
   "execution_count": 2,
   "id": "795e4069-5262-47ff-a0fa-d1191f81b738",
   "metadata": {},
   "outputs": [
    {
     "name": "stdout",
     "output_type": "stream",
     "text": [
      "Enter the URL, text, or contact info for the QR code:  guli kutta\n"
     ]
    },
    {
     "name": "stdout",
     "output_type": "stream",
     "text": [
      "✅ QR Code generated and saved as 'Custom_QR_Code.png' — ready for GitHub!\n"
     ]
    }
   ],
   "source": [
    "# Importing necessary libraries\n",
    "import qrcode\n",
    "from PIL import Image\n",
    "\n",
    "# User input for QR content\n",
    "data = input(\"Enter the URL, text, or contact info for the QR code: \")\n",
    "\n",
    "# QR Code configuration with error correction\n",
    "qr = qrcode.QRCode(\n",
    "    version=1,\n",
    "    error_correction=qrcode.constants.ERROR_CORRECT_H,  # High error correction\n",
    "    box_size=10,\n",
    "    border=4\n",
    ")\n",
    "\n",
    "# Adding data and generating QR code\n",
    "qr.add_data(data)\n",
    "qr.make(fit=True)\n",
    "\n",
    "# Create and customize QR code\n",
    "qr_img = qr.make_image(fill_color=\"black\", back_color=\"white\")\n",
    "\n",
    "# Save the QR code image\n",
    "file_name = \"Custom_QR_Code.png\"\n",
    "qr_img.save(file_name)\n",
    "\n",
    "print(f\"✅ QR Code generated and saved as '{file_name}' — ready for GitHub!\")\n"
   ]
  }
 ],
 "metadata": {
  "kernelspec": {
   "display_name": "Python 3 (ipykernel)",
   "language": "python",
   "name": "python3"
  },
  "language_info": {
   "codemirror_mode": {
    "name": "ipython",
    "version": 3
   },
   "file_extension": ".py",
   "mimetype": "text/x-python",
   "name": "python",
   "nbconvert_exporter": "python",
   "pygments_lexer": "ipython3",
   "version": "3.13.2"
  }
 },
 "nbformat": 4,
 "nbformat_minor": 5
}
